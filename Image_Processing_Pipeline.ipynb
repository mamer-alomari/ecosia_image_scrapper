{
  "nbformat": 4,
  "nbformat_minor": 0,
  "metadata": {
    "colab": {
      "name": "Image Processing Pipeline.ipynb",
      "provenance": [],
      "mount_file_id": "1g1IIaDEUXKJYeavuHjEB59N0BA3QEHxg",
      "authorship_tag": "ABX9TyNLRnLPZCyQljbvvw7iNgUp",
      "include_colab_link": true
    },
    "kernelspec": {
      "name": "python3",
      "display_name": "Python 3"
    },
    "language_info": {
      "name": "python"
    },
    "accelerator": "GPU"
  },
  "cells": [
    {
      "cell_type": "markdown",
      "metadata": {
        "id": "view-in-github",
        "colab_type": "text"
      },
      "source": [
        "<a href=\"https://colab.research.google.com/github/mamer-alomari/ecosia_image_scrapper/blob/main/Image_Processing_Pipeline.ipynb\" target=\"_parent\"><img src=\"https://colab.research.google.com/assets/colab-badge.svg\" alt=\"Open In Colab\"/></a>"
      ]
    },
    {
      "cell_type": "code",
      "source": [
        "pip install pickle5\n"
      ],
      "metadata": {
        "id": "9dJjU7xGweLo"
      },
      "execution_count": null,
      "outputs": []
    },
    {
      "cell_type": "code",
      "source": [
        "import os \n",
        "import numpy as np"
      ],
      "metadata": {
        "id": "PZl2q2Di-Cc3"
      },
      "execution_count": 58,
      "outputs": []
    },
    {
      "cell_type": "code",
      "execution_count": 5,
      "metadata": {
        "id": "FaH9V5hn9Cf1"
      },
      "outputs": [],
      "source": [
        "def load_images_to_list_grey_resized(path,size):\n",
        "    # path must be a string proceded with r before the string \n",
        "    import os \n",
        "    from os import listdir \n",
        "    from matplotlib import image\n",
        "    from PIL import Image\n",
        "    import numpy as np\n",
        "    # load all images in a directory \n",
        "    loaded_images=list()\n",
        "    categories=[filename for filename in os.listdir(path)]\n",
        "    path= path\n",
        "    try:\n",
        "      for category in categories: \n",
        "        #looping over the names in the directory and loading them consequtivley\n",
        "          path1= (path + category)\n",
        "          for filename in listdir(path1):\n",
        "            #load image\n",
        "            img_data=Image.open(path1 +'/'+filename)\n",
        "            #grey scaling the image \n",
        "            gs_image=img_data.convert(mode='L')\n",
        "            #resize the image to 100,100 thumbnail\n",
        "            resized=gs_image.resize(size)\n",
        "            #store loaded images \n",
        "            resized1=np.array(resized)\n",
        "            loaded_images.append([category,resized1])\n",
        "            print ('> loaded %s %s' % (filename, resized.size) +\" origional size :\" +str(img_data.size))\n",
        "    except IsADirectoryError as e: \n",
        "      pass             \n",
        "    return  categories,loaded_images\n",
        "\n",
        "def set_training_data(images,IMG_Size):\n",
        "  \"\"\"setting Training Data, Outputs X,y \"\"\"\n",
        "  import numpy as np\n",
        "  # initiating an empty lists for X,y \n",
        "  X=[]\n",
        "  y=[]\n",
        "  # looping over the images \n",
        "  for label,features in images:\n",
        "    # appending features and labels to x, y  \n",
        "    X.append(features)\n",
        "    y.append(label)\n",
        "  X=np.array(X).reshape(-1,IMG_Size,IMG_Size,1)\n",
        "  return X,y\n",
        "\n",
        "def save_objects(X,y):\n",
        "  \"\"\" outputs pickle objects X,y\"\"\"\n",
        "  import pickle\n",
        "  # saving X as pickle object \n",
        "  pickle_out = open(\"X_train.pickle\",\"wb\")\n",
        "  pickle.dump(X, pickle_out)\n",
        "  pickle_out.close()\n",
        "  # saving y as piuckle object\n",
        "  pickle_out = open(\"y_train.pickle\",\"wb\")\n",
        "  pickle.dump(y, pickle_out)\n",
        "  pickle_out.close()\n"
      ]
    },
    {
      "cell_type": "code",
      "source": [
        "path='/content/drive/Othercomputers/My Computer (1)/springboard/computer vision/Furniture/' \n",
        "IMG_Size=600\n",
        "categories, images=load_images_to_list_grey_resized(path,(IMG_Size,IMG_Size))"
      ],
      "metadata": {
        "colab": {
          "base_uri": "https://localhost:8080/"
        },
        "id": "5Vcpz-IU9EE_",
        "outputId": "93550f08-1fa1-46e2-d8c5-7384eced8b76"
      },
      "execution_count": 6,
      "outputs": [
        {
          "output_type": "stream",
          "name": "stdout",
          "text": [
            "\u001b[1;30;43mStreaming output truncated to the last 5000 lines.\u001b[0m\n",
            "> loaded 4.jpg (600, 600) origional size :(2560, 1707)\n",
           
            "> loaded 192.jpg (600, 600) origional size :(474, 711)\n",
            "> loaded 193.jpg (600, 600) origional size :(474, 333)\n",
            "> loaded 194.jpg (600, 600) origional size :(474, 474)\n",
            "> loaded 195.jpg (600, 600) origional size :(474, 474)\n",
            "> loaded 196.jpg (600, 600) origional size :(474, 332)\n",
            "> loaded 197.jpg (600, 600) origional size :(474, 456)\n",
            "> loaded 198.jpg (600, 600) origional size :(474, 711)\n",
            "> loaded 199.jpg (600, 600) origional size :(474, 474)\n",
            "> loaded 200.jpg (600, 600) origional size :(474, 663)\n"
          ]
        }
      ]
    },
    {
      "cell_type": "code",
      "source": [
        "print (images[:2])"
      ],
      "metadata": {
        "colab": {
          "base_uri": "https://localhost:8080/"
        },
        "id": "apaMSCn99h86",
        "outputId": "9ef03e2d-d1a3-4506-8910-5816b8a077ac"
      },
      "execution_count": 7,
      "outputs": [
        {
          "output_type": "stream",
          "name": "stdout",
          "text": [
            "[['Adult Rocking Chair', array([[255, 255, 255, ..., 255, 255, 255],\n",
            "       [255, 255, 255, ..., 255, 255, 255],\n",
            "       [255, 255, 255, ..., 255, 255, 255],\n",
            "       ...,\n",
            "       [255, 255, 255, ..., 255, 255, 255],\n",
            "       [255, 255, 255, ..., 255, 255, 255],\n",
            "       [255, 255, 255, ..., 255, 255, 255]], dtype=uint8)], ['Adult Rocking Chair', array([[175, 177, 174, ..., 189, 189, 189],\n",
            "       [175, 176, 174, ..., 189, 189, 189],\n",
            "       [177, 178, 175, ..., 189, 189, 189],\n",
            "       ...,\n",
            "       [129, 112, 115, ...,  77, 119,  86],\n",
            "       [114, 110, 116, ..., 106, 100,  85],\n",
            "       [137, 104, 153, ..., 105, 101, 106]], dtype=uint8)]]\n"
          ]
        }
      ]
    },
    {
      "cell_type": "code",
      "source": [
        "X,y= set_training_data(images,IMG_Size)\n",
        "save_objects(X,y)"
      ],
      "metadata": {
        "id": "0FJCZHtsE3Dt"
      },
      "execution_count": 8,
      "outputs": []
    },
    {
      "cell_type": "code",
      "source": [
        "def open_pickle_obj():\n",
        "  \"\"\" opens saved pickle objects\"\"\"\n",
        "  # defining X in \n",
        "  pickle_in = open(\"X.pickle\",\"rb\")\n",
        "  #Loading X\n",
        "  X = pickle.load(pickle_in)\n",
        "\n",
        "  pickle_in = open(\"y.pickle\",\"rb\")\n",
        "  y = pickle.load(pickle_in)\n",
        "  return X,y\n",
        "  "
      ],
      "metadata": {
        "id": "tR8Vaq9uwTVj"
      },
      "execution_count": 9,
      "outputs": []
    },
    {
      "cell_type": "code",
      "source": [
        ""
      ],
      "metadata": {
        "id": "NPdLzMuklt8s"
      },
      "execution_count": 9,
      "outputs": []
    },
    {
      "cell_type": "code",
      "source": [
        ""
      ],
      "metadata": {
        "id": "AePU8XtpwdF6"
      },
      "execution_count": null,
      "outputs": []
    },
    {
      "cell_type": "code",
      "source": [
        "  "
      ],
      "metadata": {
        "id": "njdLWDl1nmjM"
      },
      "execution_count": 2,
      "outputs": []
    },
    {
      "cell_type": "code",
      "source": [
        ""
      ],
      "metadata": {
        "id": "cG7pdnD0nZxR"
      },
      "execution_count": 2,
      "outputs": []
    },
    {
      "cell_type": "code",
      "source": [
        ""
      ],
      "metadata": {
        "id": "ekqRyj-Nn_JD"
      },
      "execution_count": 2,
      "outputs": []
    },
    {
      "cell_type": "code",
      "source": [
        ""
      ],
      "metadata": {
        "id": "vbLX_APSo7FD"
      },
      "execution_count": 2,
      "outputs": []
    },
    {
      "cell_type": "code",
      "source": [
        ""
      ],
      "metadata": {
        "id": "mv_NwXQYpQrJ"
      },
      "execution_count": 2,
      "outputs": []
    },
    {
      "cell_type": "code",
      "source": [
        ""
      ],
      "metadata": {
        "id": "op1-iDrmmtM7"
      },
      "execution_count": null,
      "outputs": []
    },
    {
      "cell_type": "code",
      "source": [
        ""
      ],
      "metadata": {
        "id": "bQ_TtKPx9-2h"
      },
      "execution_count": 2,
      "outputs": []
    },
    {
      "cell_type": "code",
      "source": [
        ""
      ],
      "metadata": {
        "id": "-u00jWZm-GX9"
      },
      "execution_count": null,
      "outputs": []
    }
  ]
}

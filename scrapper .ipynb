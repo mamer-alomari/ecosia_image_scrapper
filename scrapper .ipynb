{
 "cells": [
  {
   "cell_type": "code",
   "execution_count": null,
   "id": "bcabb454",
   "metadata": {},
   "outputs": [],
   "source": [
    "\n",
    "import os\n",
    "import selenium\n",
    "from selenium import webdriver\n",
    "\n",
    "driver = webdriver.Chrome(executable_path=r'C:\\Users\\mmioi\\Downloads\\chromedriver_win32\\chromedriver.exe')\n",
    "\n",
    "import time\n",
    "from PIL import Image\n",
    "import io\n",
    "import requests\n",
    "   \n",
    "folder_name=input('name of the folder:') \n",
    "url=input('what is the URL ')\n",
    "limit=input('how many?.......') \n",
    "\n",
    "if not os.path.isdir(folder_name):\n",
    "    os.makedirs(folder_name)\n",
    "\n",
    "\n",
    "\n",
    "\n",
    "   \n",
    "def download_image(url, folder_name, num):\n",
    "\n",
    "    # write image to file\n",
    "    reponse = requests.get(url)\n",
    "    if reponse.status_code==200:\n",
    "        with open(os.path.join(folder_name, str(num)+\".jpg\"), 'wb') as file:\n",
    "            file.write(reponse.content)\n",
    "  \n",
    "        \n",
    "\n",
    "#logging into google\n",
    "\n",
    "driver.get(url)\n",
    "time.sleep(5) \n",
    "\n",
    "\n",
    "select_images=driver.find_element_by_xpath('//*[@id=\"__layout\"]/div/main/div/section/div/article[1]/div[1]/a/img')\n",
    "select_images.click()\n",
    "\n",
    "\n",
    "time.sleep(2)\n",
    "for i in range(1,int(limit)+1):\n",
    "    \n",
    "    preview_image_xPath = '''/html/body/div/div/div/main/div/section/div/article[%s]/figure/div/a/img''' %(i)\n",
    "    \n",
    "    previewImageElement = driver.find_element_by_xpath(preview_image_xPath)\n",
    "    \n",
    "    previewImageURL = previewImageElement.get_attribute(\"src\")\n",
    "    \n",
    "    print(\"preview URL\", previewImageURL)\n",
    "    \n",
    "    move_away_xPath= '''/html/body/div/div/div/main/div/section/div/article[%s]/figure/figcaption/div[2]/button[2]''' %(i)\n",
    "    move_away=driver.find_element_by_xpath(move_away_xPath)\n",
    "    move_away.click()\n",
    "    time.sleep(0.05)\n",
    "\n",
    "    try:\n",
    "        download_image(previewImageURL, folder_name, i)\n",
    "        print(\"Downloaded element %s out of %s total. URL: %s\" % (i, len_containers + 1, imageURL))\n",
    "    except:\n",
    "        print(\"Couldn't download an image %s, continuing downloading the next one\"%(i))\n",
    "driver.quit()\n",
    "\n",
    "\n"
   ]
  },
  {
   "cell_type": "code",
   "execution_count": null,
   "id": "5872f3ae",
   "metadata": {},
   "outputs": [],
   "source": [
    "\n"
   ]
  },
  {
   "cell_type": "code",
   "execution_count": null,
   "id": "96afe514",
   "metadata": {},
   "outputs": [],
   "source": []
  },
  {
   "cell_type": "code",
   "execution_count": null,
   "id": "c44829b0",
   "metadata": {},
   "outputs": [],
   "source": []
  },
  {
   "cell_type": "code",
   "execution_count": null,
   "id": "1805383c",
   "metadata": {},
   "outputs": [],
   "source": []
  },
  {
   "cell_type": "code",
   "execution_count": null,
   "id": "8dd74813",
   "metadata": {},
   "outputs": [],
   "source": []
  },
  {
   "cell_type": "code",
   "execution_count": null,
   "id": "d711c6f4",
   "metadata": {},
   "outputs": [],
   "source": [
    "\n"
   ]
  },
  {
   "cell_type": "code",
   "execution_count": null,
   "id": "6d84ccbc",
   "metadata": {},
   "outputs": [],
   "source": []
  },
  {
   "cell_type": "code",
   "execution_count": null,
   "id": "9789f4f0",
   "metadata": {},
   "outputs": [],
   "source": []
  },
  {
   "cell_type": "code",
   "execution_count": null,
   "id": "7c7b570e",
   "metadata": {},
   "outputs": [],
   "source": []
  },
  {
   "cell_type": "code",
   "execution_count": null,
   "id": "44e1e233",
   "metadata": {},
   "outputs": [],
   "source": []
  },
  {
   "cell_type": "code",
   "execution_count": null,
   "id": "9df9d30c",
   "metadata": {},
   "outputs": [],
   "source": []
  }
 ],
 "metadata": {
  "kernelspec": {
   "display_name": "Python 3",
   "language": "python",
   "name": "python3"
  },
  "language_info": {
   "codemirror_mode": {
    "name": "ipython",
    "version": 3
   },
   "file_extension": ".py",
   "mimetype": "text/x-python",
   "name": "python",
   "nbconvert_exporter": "python",
   "pygments_lexer": "ipython3",
   "version": "3.8.8"
  }
 },
 "nbformat": 4,
 "nbformat_minor": 5
}
